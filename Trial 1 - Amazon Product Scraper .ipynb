{
 "cells": [
  {
   "cell_type": "markdown",
   "metadata": {},
   "source": [
    "# Amazon Product Scraper"
   ]
  },
  {
   "cell_type": "code",
   "execution_count": null,
   "metadata": {},
   "outputs": [],
   "source": [
    "import requests\n",
    "\n",
    "#trial ISBN\n",
    "isbn1 = '0195153448'\n",
    "isbn2 = '006008667X'\n"
   ]
  },
  {
   "cell_type": "code",
   "execution_count": 1,
   "metadata": {},
   "outputs": [
    {
     "name": "stdout",
     "output_type": "stream",
     "text": [
      "{'name': 'Classical Mythology', 'product_information': {}, 'brand': \"by  Mark P. O. Morford(Author) › Visit Amazon's Mark P. O. Morford Page Find all the books, read about the author, and more. See search results for this authorMark P. O. Morford (Author),   Robert J. Lenardon(Author) › Visit Amazon's Robert J. Lenardon Page Find all the books, read about the author, and more. See search results for this authorRobert J. Lenardon (Author)\", 'brand_url': None, 'full_description': '', 'pricing': '', 'list_price': '', 'availability_quantity': 1, 'availability_status': 'Only 1 left in stock - order soon.', 'images': [None], 'product_category': 'Books › New, Used & Rental Textbooks › Humanities', 'average_rating': 4.2, 'small_description': '', 'feature_bullets': [], 'total_reviews': 38, 'total_answered_questions': 0, 'customization_options': {}, 'seller_id': 'A1V7VY7VV6Y1HK', 'seller_name': 'Todaro Books', 'fulfilled_by_amazon': True, 'fast_track_message': '                              \\n \\n     ', 'aplus_present': False}\n"
     ]
    }
   ],
   "source": [
    "url = \"https://amazon-product-scraper5.p.rapidapi.com/products/\"+isbn1\n",
    "\n",
    "querystring = {\"api_key\":\"d1a8234e072f8b7503c43956aa11e281\"}\n",
    "\n",
    "headers = {\n",
    "    \"X-RapidAPI-Key\": \"586fc518f3msh7a620ae644e3572p12100ejsn4956f8e89f67\",\n",
    "    \"X-RapidAPI-Host\": \"amazon-product-scraper5.p.rapidapi.com\"\n",
    "}\n",
    "\n",
    "response = requests.request(\"GET\", url, headers=headers, params=querystring)\n",
    "\n",
    "data = response.json()\n",
    "\n",
    "print(data)\n"
   ]
  },
  {
   "cell_type": "code",
   "execution_count": 92,
   "metadata": {},
   "outputs": [
    {
     "name": "stdout",
     "output_type": "stream",
     "text": [
      "{'name': 'Lily Dale: The True Story of the Town that Talks to the Dead', 'product_information': {}, 'brand': \"by  Christine Wicker(Author) › Visit Amazon's Christine Wicker Page Find all the books, read about the author, and more. See search results for this authorChristine Wicker (Author)\", 'brand_url': None, 'full_description': '', 'pricing': '', 'list_price': '', 'availability_quantity': 1, 'availability_status': 'Only 1 left in stock - order soon.', 'images': ['https://images-na.ssl-images-amazon.com/images/G/01/digital/sitb/sticker/sitb-sticker-v3-small._CB485933792_.png'], 'product_category': 'Books › History › Americas', 'average_rating': 4.3, 'small_description': '', 'feature_bullets': [], 'total_reviews': 193, 'total_answered_questions': 0, 'customization_options': {}, 'seller_id': 'A2WOEC2GADZ6YZ', 'seller_name': 'Orion LLC', 'fulfilled_by_amazon': None, 'fast_track_message': '                     \\n \\n', 'aplus_present': False}\n"
     ]
    }
   ],
   "source": [
    "url = \"https://amazon-kindle-scraper.p.rapidapi.com/products/\"+isbn2\n",
    "\n",
    "querystring = {\"api_key\":\"bc09e263d60d1bbdfc2455c657c5e9bd\"}\n",
    "\n",
    "headers = {\n",
    "    \"X-RapidAPI-Key\": \"586fc518f3msh7a620ae644e3572p12100ejsn4956f8e89f67\",\n",
    "    \"X-RapidAPI-Host\": \"amazon-kindle-scraper.p.rapidapi.com\"\n",
    "}\n",
    "\n",
    "response = requests.request(\"GET\", url, headers=headers, params=querystring)\n",
    "\n",
    "data = response.json()\n",
    "print(data)"
   ]
  },
  {
   "cell_type": "markdown",
   "metadata": {},
   "source": [
    "# trying to extract genre from product category\n"
   ]
  },
  {
   "cell_type": "code",
   "execution_count": 93,
   "metadata": {},
   "outputs": [
    {
     "data": {
      "text/plain": [
       "('Books › History › Americas', {})"
      ]
     },
     "execution_count": 93,
     "metadata": {},
     "output_type": "execute_result"
    }
   ],
   "source": [
    "data['product_category'], data['product_information']"
   ]
  },
  {
   "cell_type": "code",
   "execution_count": 94,
   "metadata": {},
   "outputs": [
    {
     "name": "stdout",
     "output_type": "stream",
     "text": [
      "Books › History › Americas\n"
     ]
    },
    {
     "data": {
      "text/plain": [
       "'Americas'"
      ]
     },
     "execution_count": 94,
     "metadata": {},
     "output_type": "execute_result"
    }
   ],
   "source": [
    "strg = data['product_category']\n",
    "print(strg)\n",
    "\n",
    "strg.split('›')[-1].strip()"
   ]
  },
  {
   "cell_type": "code",
   "execution_count": 97,
   "metadata": {},
   "outputs": [
    {
     "data": {
      "text/plain": [
       "['Americas']"
      ]
     },
     "execution_count": 97,
     "metadata": {},
     "output_type": "execute_result"
    }
   ],
   "source": [
    "import regex as re\n",
    "\n",
    "genre_list = []\n",
    "\n",
    "try: \n",
    "    text = data['product_information']['Best Sellers Rank'] \n",
    "    \n",
    "    print(text)\n",
    "    text = text.split('#')\n",
    "    text = [x for x in text if x!='']\n",
    "    for t in text:\n",
    "        li = t.split('in',1)\n",
    "        rank = li[0]\n",
    "        genre = li[1]    \n",
    "        parenthesis = re.search(\"[\\(.*\\)]\",genre)\n",
    "        if parenthesis:\n",
    "            start = parenthesis.start()\n",
    "            genre = genre[:start]\n",
    "\n",
    "        print(rank,genre)\n",
    "        if genre.lower().strip() != 'books':\n",
    "            genre_list.append(genre.strip())\n",
    "            \n",
    "except KeyError:\n",
    "    text = data['product_category']\n",
    "    genre = text.split('›')[-1].strip()\n",
    "    genre_list.append(genre)\n",
    "    \n",
    "genre_list"
   ]
  },
  {
   "cell_type": "code",
   "execution_count": 39,
   "metadata": {},
   "outputs": [
    {
     "name": "stdout",
     "output_type": "stream",
     "text": [
      " Books (See Top 100 in Books)\n",
      " Books \n"
     ]
    }
   ],
   "source": [
    "parenthesis = re.search(\"[\\(.*\\)]\",genre)\n",
    "print(genre)\n",
    "if parenthesis:\n",
    "    start = parenthesis.start()\n",
    "    print(genre[:start])"
   ]
  }
 ],
 "metadata": {
  "kernelspec": {
   "display_name": "Python 3 (ipykernel)",
   "language": "python",
   "name": "python3"
  },
  "language_info": {
   "codemirror_mode": {
    "name": "ipython",
    "version": 3
   },
   "file_extension": ".py",
   "mimetype": "text/x-python",
   "name": "python",
   "nbconvert_exporter": "python",
   "pygments_lexer": "ipython3",
   "version": "3.7.4"
  }
 },
 "nbformat": 4,
 "nbformat_minor": 2
}
